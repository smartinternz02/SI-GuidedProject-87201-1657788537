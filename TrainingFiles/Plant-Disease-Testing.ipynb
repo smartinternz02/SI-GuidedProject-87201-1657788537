{
 "cells": [
  {
   "cell_type": "markdown",
   "id": "e984ff1f",
   "metadata": {},
   "source": [
    "# Import the packages and load the saved model"
   ]
  },
  {
   "cell_type": "code",
   "execution_count": 27,
   "id": "6b0a831d",
   "metadata": {},
   "outputs": [],
   "source": [
    "from keras.preprocessing import image\n",
    "from tensorflow.keras.preprocessing.image import img_to_array\n",
    "from tensorflow.keras.models import load_model\n",
    "import numpy as np\n",
    "import keras\n",
    "import tensorflow as tf"
   ]
  },
  {
   "cell_type": "markdown",
   "id": "286dde45",
   "metadata": {},
   "source": [
    "# Loading Fruit Model"
   ]
  },
  {
   "cell_type": "code",
   "execution_count": 33,
   "id": "0b4aa336",
   "metadata": {},
   "outputs": [],
   "source": [
    "model = load_model('fruit.h5')"
   ]
  },
  {
   "cell_type": "markdown",
   "id": "bdadd664",
   "metadata": {},
   "source": [
    "# Load the test image, pre-process it and predict"
   ]
  },
  {
   "cell_type": "code",
   "execution_count": 48,
   "id": "d264e5a4",
   "metadata": {},
   "outputs": [],
   "source": [
    "img = keras.utils.load_img('apple_healthy.JPG', target_size = (128,128))"
   ]
  },
  {
   "cell_type": "code",
   "execution_count": 49,
   "id": "c6ca5372",
   "metadata": {},
   "outputs": [],
   "source": [
    "x = keras.utils.img_to_array(img)\n",
    "x=np.expand_dims(x,axis = 0)"
   ]
  },
  {
   "cell_type": "code",
   "execution_count": 50,
   "id": "e97a17d8",
   "metadata": {},
   "outputs": [
    {
     "name": "stdout",
     "output_type": "stream",
     "text": [
      "1/1 [==============================] - 0s 20ms/step\n"
     ]
    }
   ],
   "source": [
    "pred=model.predict(x)\n",
    "pred = np.argmax(pred, axis = 1)[:5] "
   ]
  },
  {
   "cell_type": "code",
   "execution_count": 51,
   "id": "d40e71de",
   "metadata": {},
   "outputs": [
    {
     "name": "stdout",
     "output_type": "stream",
     "text": [
      "[1]\n"
     ]
    }
   ],
   "source": [
    "print(pred)"
   ]
  },
  {
   "cell_type": "markdown",
   "id": "6f80d139",
   "metadata": {},
   "source": [
    "# Loading Fruit Model"
   ]
  },
  {
   "cell_type": "code",
   "execution_count": 52,
   "id": "a380e5e3",
   "metadata": {},
   "outputs": [],
   "source": [
    "model1 = load_model('vegetable.h5')"
   ]
  },
  {
   "cell_type": "markdown",
   "id": "145d1836",
   "metadata": {},
   "source": [
    "# Load the test image, pre-process it and predict"
   ]
  },
  {
   "cell_type": "code",
   "execution_count": 53,
   "id": "5782c76e",
   "metadata": {},
   "outputs": [],
   "source": [
    "img1 = keras.utils.load_img('potato_healthy.JPG', target_size = (128,128))"
   ]
  },
  {
   "cell_type": "code",
   "execution_count": 56,
   "id": "8e25ee55",
   "metadata": {},
   "outputs": [],
   "source": [
    "x = keras.utils.img_to_array(img1)\n",
    "x=np.expand_dims(x,axis = 0)"
   ]
  },
  {
   "cell_type": "code",
   "execution_count": 57,
   "id": "4f35ee33",
   "metadata": {},
   "outputs": [
    {
     "name": "stdout",
     "output_type": "stream",
     "text": [
      "1/1 [==============================] - 0s 28ms/step\n"
     ]
    }
   ],
   "source": [
    "pred=model.predict(x)\n",
    "pred = np.argmax(pred, axis = 1)[:5] "
   ]
  },
  {
   "cell_type": "code",
   "execution_count": 58,
   "id": "e2ff44e4",
   "metadata": {},
   "outputs": [
    {
     "name": "stdout",
     "output_type": "stream",
     "text": [
      "[1]\n"
     ]
    }
   ],
   "source": [
    "print(pred)"
   ]
  },
  {
   "cell_type": "code",
   "execution_count": null,
   "id": "ea9e90dd",
   "metadata": {},
   "outputs": [],
   "source": []
  }
 ],
 "metadata": {
  "kernelspec": {
   "display_name": "Python 3 (ipykernel)",
   "language": "python",
   "name": "python3"
  },
  "language_info": {
   "codemirror_mode": {
    "name": "ipython",
    "version": 3
   },
   "file_extension": ".py",
   "mimetype": "text/x-python",
   "name": "python",
   "nbconvert_exporter": "python",
   "pygments_lexer": "ipython3",
   "version": "3.9.12"
  }
 },
 "nbformat": 4,
 "nbformat_minor": 5
}
